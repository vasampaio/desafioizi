{
 "cells": [
  {
   "cell_type": "code",
   "execution_count": 1,
   "metadata": {},
   "outputs": [],
   "source": [
    "import pandas as pd\n",
    "import sqlite3"
   ]
  },
  {
   "cell_type": "code",
   "execution_count": 2,
   "metadata": {},
   "outputs": [
    {
     "data": {
      "text/plain": [
       "<sqlite3.Cursor at 0x1f8fdf1d6c0>"
      ]
     },
     "execution_count": 2,
     "metadata": {},
     "output_type": "execute_result"
    }
   ],
   "source": [
    "# Conexão com o SQLite e execução do script de inicialização.\n",
    "\n",
    "DB = sqlite3.connect('bancolocal.db')\n",
    "c = DB.cursor()\n",
    "\n",
    "sql_file = open(\"script.sql\")\n",
    "sql_as_string = sql_file.read()\n",
    "c.executescript(sql_as_string)"
   ]
  },
  {
   "cell_type": "code",
   "execution_count": 3,
   "metadata": {},
   "outputs": [
    {
     "data": {
      "text/plain": [
       "[('Belo Horizonte', 'Jaxspan', 1015.2),\n",
       " ('Belo Horizonte', 'Mymm', 903.98),\n",
       " ('Belo Horizonte', 'Flipopia', 811.13),\n",
       " ('Curitiba', 'Youspan', 1298.54),\n",
       " ('Curitiba', 'Eimbee', 1256.56),\n",
       " ('Curitiba', 'Lajo', 917.9399999999999),\n",
       " ('Estados Unidos de Sobral', 'Dabfeed', 1438.03),\n",
       " ('Estados Unidos de Sobral', 'Centizu', 915.11),\n",
       " ('Estados Unidos de Sobral', 'Livetube', 864.62),\n",
       " ('Fortaleza', 'Dynabox', 1078.27),\n",
       " ('Fortaleza', 'Skiptube', 1033.8899999999999),\n",
       " ('Fortaleza', 'Fadeo', 1001.8900000000001),\n",
       " ('Rio de Janeiro', 'Zoombeat', 879.5),\n",
       " ('Rio de Janeiro', 'Vinte', 876.9999999999999),\n",
       " ('Rio de Janeiro', 'Centidel', 841.48)]"
      ]
     },
     "execution_count": 3,
     "metadata": {},
     "output_type": "execute_result"
    }
   ],
   "source": [
    "#sql query\n",
    "\n",
    "c.execute('''\n",
    "            SELECT * FROM \n",
    "            (SELECT loja, cliente, SUM(valor) n from vendas\n",
    "            GROUP BY cliente, loja\n",
    "            ORDER BY loja, n DESC) AS a\n",
    "            WHERE a.cliente IN (\n",
    "            SELECT b.cliente from (SELECT loja, cliente, SUM(valor) n from vendas\n",
    "            GROUP BY cliente, loja\n",
    "            ORDER BY loja, n DESC) AS b \n",
    "            WHERE a.loja = b.loja\n",
    "            ORDER BY b.n DESC\n",
    "            LIMIT 3\n",
    "            )\n",
    "            ''')\n",
    "c.fetchall()"
   ]
  },
  {
   "cell_type": "code",
   "execution_count": 4,
   "metadata": {},
   "outputs": [],
   "source": [
    "DB.commit()\n",
    "DB.close()"
   ]
  },
  {
   "cell_type": "code",
   "execution_count": null,
   "metadata": {},
   "outputs": [],
   "source": []
  }
 ],
 "metadata": {
  "kernelspec": {
   "display_name": "Python 3",
   "language": "python",
   "name": "python3"
  },
  "language_info": {
   "codemirror_mode": {
    "name": "ipython",
    "version": 3
   },
   "file_extension": ".py",
   "mimetype": "text/x-python",
   "name": "python",
   "nbconvert_exporter": "python",
   "pygments_lexer": "ipython3",
   "version": "3.8.3"
  }
 },
 "nbformat": 4,
 "nbformat_minor": 4
}
